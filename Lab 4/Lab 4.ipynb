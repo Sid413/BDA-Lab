{
 "cells": [
  {
   "cell_type": "code",
   "execution_count": 18,
   "metadata": {},
   "outputs": [],
   "source": [
    "from pyspark.sql import SparkSession\n",
    "from pyspark.sql.types import *\n",
    "from pyspark.ml.evaluation import RegressionEvaluator \n",
    "from pyspark.ml.recommendation import ALS \n",
    "from pyspark.ml.feature import StringIndexer\n",
    "from pyspark.ml import Pipeline"
   ]
  },
  {
   "cell_type": "markdown",
   "metadata": {},
   "source": [
    "## Q1"
   ]
  },
  {
   "cell_type": "code",
   "execution_count": 19,
   "metadata": {},
   "outputs": [],
   "source": [
    "spark = SparkSession.builder.appName('Recommender').getOrCreate() "
   ]
  },
  {
   "cell_type": "code",
   "execution_count": 20,
   "metadata": {},
   "outputs": [
    {
     "name": "stdout",
     "output_type": "stream",
     "text": [
      "+-----------+----------+------------+----------+-----+----------+----------+----------+\n",
      "|helpfulness|product_id|profile_name|    review|score|   summary|      time|   user_id|\n",
      "+-----------+----------+------------+----------+-----+----------+----------+----------+\n",
      "|        7/7|B003AI2VGA|  Brian E...|Synopsi...|  3.0|\"There ...|1182729600|A141HP4...|\n",
      "|        4/4|B003AI2VGA|  Grady Harp|THE VIR...|  3.0|Worthwh...|1181952000|A328S9R...|\n",
      "|       8/10|B003AI2VGA|  Chrissy...|The sce...|  5.0|This mo...|1164844800|A1I7QGU...|\n",
      "|        1/1|B003AI2VGA|  golgoth...|THE VIR...|  3.0|distant...|1197158400|A1M5405...|\n",
      "|        1/1|B003AI2VGA|  KerrLin...|Informa...|  3.0|\"What's...|1188345600|ATXL536...|\n",
      "+-----------+----------+------------+----------+-----+----------+----------+----------+\n",
      "only showing top 5 rows\n",
      "\n"
     ]
    }
   ],
   "source": [
    "df = spark.read.json('movies.json')\n",
    "\n",
    "df.show(5,10)"
   ]
  },
  {
   "cell_type": "code",
   "execution_count": 21,
   "metadata": {},
   "outputs": [
    {
     "name": "stdout",
     "output_type": "stream",
     "text": [
      "+--------------+----------+-----+\n",
      "|       user_id|product_id|score|\n",
      "+--------------+----------+-----+\n",
      "|A141HP4LYPWMSR|B003AI2VGA|  3.0|\n",
      "|A328S9RN3U5M68|B003AI2VGA|  3.0|\n",
      "|A1I7QGUDP043DG|B003AI2VGA|  5.0|\n",
      "|A1M5405JH9THP9|B003AI2VGA|  3.0|\n",
      "| ATXL536YX71TR|B003AI2VGA|  3.0|\n",
      "|A3QYDL5CDNYN66|B003AI2VGA|  2.0|\n",
      "| AQJVNDW6YZFQS|B003AI2VGA|  1.0|\n",
      "| AD4CDZK7D31XP|B00006HAXW|  5.0|\n",
      "|A3Q4S5DFVPB70D|B00006HAXW|  5.0|\n",
      "|A2P7UB02HAVEPB|B00006HAXW|  5.0|\n",
      "|A2TX99AZKDK0V7|B00006HAXW|  4.0|\n",
      "| AFC8IKR407HSK|B00006HAXW|  5.0|\n",
      "|A1FRPGQYQTAOR1|B00006HAXW|  5.0|\n",
      "|A1RSDE90N6RSZF|B00006HAXW|  5.0|\n",
      "|A1OUBOGB5970AO|B00006HAXW|  4.0|\n",
      "|A3NPHQVIY59Y0Y|B00006HAXW|  5.0|\n",
      "| AFKMBAY28XO8A|B00006HAXW|  5.0|\n",
      "| A66KMXH9V7OGU|B00006HAXW|  5.0|\n",
      "| AFJ27ZV9183B8|B00006HAXW|  5.0|\n",
      "| AXMKAXC0TR9AW|B00006HAXW|  5.0|\n",
      "+--------------+----------+-----+\n",
      "only showing top 20 rows\n",
      "\n"
     ]
    }
   ],
   "source": [
    "df = df.select(\"user_id\", \"product_id\", \"score\")\n",
    "df.show()"
   ]
  },
  {
   "cell_type": "code",
   "execution_count": 22,
   "metadata": {},
   "outputs": [],
   "source": [
    "user_indexer = StringIndexer(inputCol=\"user_id\", outputCol=\"user_1\", handleInvalid=\"keep\")\n",
    "product_indexer = StringIndexer(inputCol=\"product_id\", outputCol=\"product_1\", handleInvalid=\"keep\")\n",
    "\n",
    "als = ALS(maxIter=5, regParam=0.01, userCol=\"user_1\", itemCol=\"product_1\", ratingCol=\"score\")\n",
    "\n",
    "pipeline = Pipeline(stages=[user_indexer, product_indexer, als])\n",
    "                                                                        \n",
    "#splitting data\n",
    "train_data, test_data = df.randomSplit([0.8, 0.2]) \n",
    "  \n",
    "#Fitting the model \n",
    "model = pipeline.fit(train_data)"
   ]
  },
  {
   "cell_type": "code",
   "execution_count": 23,
   "metadata": {},
   "outputs": [
    {
     "name": "stdout",
     "output_type": "stream",
     "text": [
      "+--------------+----------+-----------+\n",
      "|       user_id|product_id| prediction|\n",
      "+--------------+----------+-----------+\n",
      "|A1EXJJQMOWNAUY|B00005LKL6|  1.8641249|\n",
      "|A1MD6MXBHCRC0V|B000067J2J| 0.14754686|\n",
      "|A1UWNII9AWMZKG|B00006JU7U|  -8.991828|\n",
      "|A1VCLTAGM5RLND|B000ID1Q02| -21.448586|\n",
      "|A1VCLTAGM5RLND|B000SVZIJO|  5.6296945|\n",
      "|A244CRJ2QSVLZ4|6304675771|  1.7157378|\n",
      "|A244CRJ2QSVLZ4|B000067J2K|  0.8544126|\n",
      "|A244CRJ2QSVLZ4|B0002J4ZW8| -0.5896113|\n",
      "|A27PSZX2SE0B51|B00005B7DN|  3.0089607|\n",
      "|A27PSZX2SE0B51|B000UGBOT0|  3.5650785|\n",
      "|A27PSZX2SE0B51|B00151QYU8|    4.92058|\n",
      "|A2J6MMNWUJQUXS|B004HRDMHK|  4.0839305|\n",
      "|A2NUP9HUH7ZKZW|B00005LL26|   5.084874|\n",
      "|A2R9J5LULVKF6T|B000GETWF4|  0.9182242|\n",
      "|A2U4E28ACJ2QPV|B000EQ5V86| 0.92266953|\n",
      "|A37FUJC2L7DSPT|B00005U8ER| -4.6460977|\n",
      "|A3E2UG7HM83I40|B00005O439|  5.3166056|\n",
      "|A3MWMO2IOQDWBJ|B00015HX90|  4.1200333|\n",
      "|A3TAX19LPEUVEO|B001ILFUD2|  4.0006857|\n",
      "| AEE3ZMRRP0U4G|B005LXWYKU|-0.15376663|\n",
      "+--------------+----------+-----------+\n",
      "only showing top 20 rows\n",
      "\n"
     ]
    }
   ],
   "source": [
    "# Make predictions on the test set\n",
    "predictions = model.transform(test_data)\n",
    "\n",
    "predictions = predictions.dropna(subset=[\"prediction\"])\n",
    "\n",
    "# Show the predictions\n",
    "predictions.select(\"user_id\", \"product_id\", \"prediction\").show()"
   ]
  },
  {
   "cell_type": "code",
   "execution_count": 24,
   "metadata": {},
   "outputs": [
    {
     "name": "stdout",
     "output_type": "stream",
     "text": [
      "Root Mean Squared Error (RMSE): 4.752898619163251\n"
     ]
    }
   ],
   "source": [
    "evaluator = RegressionEvaluator(metricName=\"rmse\", labelCol=\"score\", predictionCol=\"prediction\")\n",
    "rmse = evaluator.evaluate(predictions)\n",
    "print(f\"Root Mean Squared Error (RMSE): {rmse}\")"
   ]
  },
  {
   "cell_type": "code",
   "execution_count": 25,
   "metadata": {},
   "outputs": [],
   "source": [
    "spark.stop()"
   ]
  },
  {
   "cell_type": "markdown",
   "metadata": {},
   "source": [
    "## Q2"
   ]
  },
  {
   "cell_type": "code",
   "execution_count": 26,
   "metadata": {},
   "outputs": [
    {
     "name": "stderr",
     "output_type": "stream",
     "text": [
      "/home/lplab/anaconda3/lib/python3.7/site-packages/pyspark/context.py:317: FutureWarning: Python 3.7 support is deprecated in Spark 3.4.\n",
      "  warnings.warn(\"Python 3.7 support is deprecated in Spark 3.4.\", FutureWarning)\n"
     ]
    }
   ],
   "source": [
    "import pyspark.sql.functions as sql_func\n",
    "from pyspark.sql.types import *\n",
    "from pyspark.ml.recommendation import ALSModel\n",
    "from pyspark.context import SparkContext\n",
    "from pyspark.mllib.evaluation import RegressionMetrics, RankingMetrics\n",
    "\n",
    "\n",
    "sc = SparkContext('local') \n",
    "spark = SparkSession(sc)\n"
   ]
  },
  {
   "cell_type": "code",
   "execution_count": 27,
   "metadata": {},
   "outputs": [
    {
     "name": "stdout",
     "output_type": "stream",
     "text": [
      "+-----------+----------+------------+----------+-----+----------+----------+----------+\n",
      "|helpfulness|product_id|profile_name|    review|score|   summary|      time|   user_id|\n",
      "+-----------+----------+------------+----------+-----+----------+----------+----------+\n",
      "|        7/7|B003AI2VGA|  Brian E...|Synopsi...|  3.0|\"There ...|1182729600|A141HP4...|\n",
      "|        4/4|B003AI2VGA|  Grady Harp|THE VIR...|  3.0|Worthwh...|1181952000|A328S9R...|\n",
      "|       8/10|B003AI2VGA|  Chrissy...|The sce...|  5.0|This mo...|1164844800|A1I7QGU...|\n",
      "|        1/1|B003AI2VGA|  golgoth...|THE VIR...|  3.0|distant...|1197158400|A1M5405...|\n",
      "|        1/1|B003AI2VGA|  KerrLin...|Informa...|  3.0|\"What's...|1188345600|ATXL536...|\n",
      "+-----------+----------+------------+----------+-----+----------+----------+----------+\n",
      "only showing top 5 rows\n",
      "\n"
     ]
    }
   ],
   "source": [
    "df1 = spark.read.json('movies.json')\n",
    "\n",
    "df1.show(5,10)"
   ]
  },
  {
   "cell_type": "code",
   "execution_count": 28,
   "metadata": {},
   "outputs": [],
   "source": [
    "ratings = (df1.select(\n",
    "        'user_id',\n",
    "        'product_id',\n",
    "        'score',\n",
    "    )\n",
    ").cache()"
   ]
  },
  {
   "cell_type": "code",
   "execution_count": 30,
   "metadata": {},
   "outputs": [],
   "source": [
    "(training, test) = ratings.randomSplit([0.8, 0.2])"
   ]
  },
  {
   "cell_type": "code",
   "execution_count": 33,
   "metadata": {},
   "outputs": [
    {
     "name": "stdout",
     "output_type": "stream",
     "text": [
      "Root-mean-square error = 4.119579268697591\n"
     ]
    }
   ],
   "source": [
    "als = ALS(maxIter=2, regParam=0.01, \n",
    "          userCol=\"user_1\", itemCol=\"product_1\", ratingCol=\"score\",\n",
    "          coldStartStrategy=\"drop\",\n",
    "          implicitPrefs=True)\n",
    "\n",
    "user_indexer = StringIndexer(inputCol=\"user_id\", outputCol=\"user_1\", handleInvalid=\"keep\")\n",
    "product_indexer = StringIndexer(inputCol=\"product_id\", outputCol=\"product_1\", handleInvalid=\"keep\")\n",
    "\n",
    "pipeline = Pipeline(stages=[user_indexer, product_indexer, als])\n",
    "model = pipeline.fit(training)\n",
    "\n",
    "predictions = model.transform(test)\n",
    "evaluator = RegressionEvaluator(metricName=\"rmse\", labelCol=\"score\",\n",
    "                                predictionCol=\"prediction\")\n",
    "\n",
    "rmse = evaluator.evaluate(predictions)\n",
    "print(\"Root-mean-square error = \" + str(rmse))"
   ]
  },
  {
   "cell_type": "code",
   "execution_count": null,
   "metadata": {},
   "outputs": [],
   "source": []
  }
 ],
 "metadata": {
  "kernelspec": {
   "display_name": "Python 3",
   "language": "python",
   "name": "python3"
  },
  "language_info": {
   "codemirror_mode": {
    "name": "ipython",
    "version": 3
   },
   "file_extension": ".py",
   "mimetype": "text/x-python",
   "name": "python",
   "nbconvert_exporter": "python",
   "pygments_lexer": "ipython3",
   "version": "3.7.0"
  }
 },
 "nbformat": 4,
 "nbformat_minor": 2
}
